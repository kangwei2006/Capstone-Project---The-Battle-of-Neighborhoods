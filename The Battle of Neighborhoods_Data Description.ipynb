{
 "cells": [
  {
   "cell_type": "markdown",
   "metadata": {},
   "source": [
    "# Capstone-Project: The-Battle-of-Neighborhoods"
   ]
  },
  {
   "cell_type": "markdown",
   "metadata": {},
   "source": [
    "## The Best Neighborhoods to live in Manhattan\n",
    "### Data Description\n",
    "\n",
    "#### In this project, I will use the Manhattan neighborhoods data from https://cf-courses-data.s3.us.cloud-object-storage.appdomain.cloud/IBMDeveloperSkillsNetwork-DS0701EN-SkillsNetwork/labs/newyork_data.json and the Foursquare location data to explore and compare neighborhoods in Manhattan. \n",
    "\n",
    "#### The newyork_data.json file provides the neighborhoods in Manhattan with the latitude and longitude coordinates. I will clean the data file and transform it into a pandas dataframe, and then create a map of Manhattan with neighborhoods to visualize the data. Next, I will utilize the Foursquare API and the request library in python to extract the venues in neighborhoods to explore neighborhoods and provide suggestions to people who are looking for the best neighborhoods to live in Manhattan. \n"
   ]
  },
  {
   "cell_type": "code",
   "execution_count": null,
   "metadata": {},
   "outputs": [],
   "source": []
  }
 ],
 "metadata": {
  "kernelspec": {
   "display_name": "Python 3",
   "language": "python",
   "name": "python3"
  },
  "language_info": {
   "codemirror_mode": {
    "name": "ipython",
    "version": 3
   },
   "file_extension": ".py",
   "mimetype": "text/x-python",
   "name": "python",
   "nbconvert_exporter": "python",
   "pygments_lexer": "ipython3",
   "version": "3.8.5"
  }
 },
 "nbformat": 4,
 "nbformat_minor": 4
}
